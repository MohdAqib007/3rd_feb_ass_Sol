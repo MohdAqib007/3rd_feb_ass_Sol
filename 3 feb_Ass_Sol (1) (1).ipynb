{
 "cells": [
  {
   "cell_type": "code",
   "execution_count": 29,
   "id": "73586493-7482-414d-8cdb-530b316f063b",
   "metadata": {},
   "outputs": [],
   "source": [
    "#Q.1 Ans- def keyword is used to create a function.\n",
    "\n",
    "def test():\n",
    "    l= []\n",
    "    for num in range(1, 26):\n",
    "        if num % 2 != 0:\n",
    "            l.append(num)\n",
    "    return l"
   ]
  },
  {
   "cell_type": "code",
   "execution_count": 30,
   "id": "c3246d3b-0015-4806-997b-590f54f05eb4",
   "metadata": {},
   "outputs": [
    {
     "data": {
      "text/plain": [
       "[1, 3, 5, 7, 9, 11, 13, 15, 17, 19, 21, 23, 25]"
      ]
     },
     "execution_count": 30,
     "metadata": {},
     "output_type": "execute_result"
    }
   ],
   "source": [
    "test()"
   ]
  },
  {
   "cell_type": "code",
   "execution_count": 31,
   "id": "df1da70a-4996-41b7-b8e1-6ae9af0c6131",
   "metadata": {},
   "outputs": [],
   "source": [
    "#Q.2 Ans-\n",
    "\n",
    "'''*args and **kwargs are special syntax in Python used in function definitions \n",
    "that allow a function to accept an arbitrary number of arguments.\n",
    "\n",
    "The *args syntax is used to pass a variable number of non-keyword arguments to a function.\n",
    "It allows you to pass any number of arguments to the function, which are then packed into a tuple. \n",
    "You can use *args in a function definition like this:'''\n",
    "\n",
    "#In this example, the test1() accepts any number of arguments and prints them one by one using a for loop.\n",
    "def test1(*args):\n",
    "    return args\n",
    "\n",
    "\n",
    "'''The **kwargs syntax, on the other hand, is used to pass a variable number of keyword arguments to a function. \n",
    "It allows you to pass any number of keyword arguments to the function, which are then packed into a dictionary. \n",
    "You can use **kwargs in a function definition like this:'''\n",
    "\n",
    "def test2(**kwargs):\n",
    "    return kwargs\n"
   ]
  },
  {
   "cell_type": "code",
   "execution_count": 40,
   "id": "bcd26fb9-10c1-4d56-956d-203264b81e00",
   "metadata": {},
   "outputs": [
    {
     "name": "stdout",
     "output_type": "stream",
     "text": [
      "2\n",
      "4\n",
      "6\n",
      "8\n",
      "10\n"
     ]
    }
   ],
   "source": [
    "#Q.3 Ans-\n",
    "\n",
    "\"\"\"In Python, an iterator is an object that enables the traversal of a sequence or container such as a list, tuple, or dictionary. \n",
    "The main advantage of using an iterator is that it allows us to access elements of a sequence without having to know the underlying data structure.\n",
    "\n",
    "To create an iterator object in Python, we use the iter() method. \n",
    "This method takes an iterable object as an argument and returns an iterator object. \n",
    "The next() method is used to retrieve the next item from the iterator.\n",
    "\n",
    "Here's an example code snippet that prints the first five elements of the given list [2, 4, 6, 8, 10, 12, 14, 16, 18, 20]:\"\"\"\n",
    "\n",
    "\n",
    "my_list = [2, 4, 6, 8, 10, 12, 14, 16, 18, 20]\n",
    "my_iterator = iter(my_list)\n",
    "\n",
    "for i in range(5):\n",
    "    print(next(my_iterator))\n"
   ]
  },
  {
   "cell_type": "code",
   "execution_count": 41,
   "id": "10ddf654-f4c2-4281-84ee-46a68129a96b",
   "metadata": {},
   "outputs": [],
   "source": [
    "#Q.4 Ans-\n",
    "\n",
    "'''In Python, a generator function is a special type of function that generates a sequence of values using the yield keyword. \n",
    "Unlike regular functions, generator functions don't return a value and don't terminate when they are called. \n",
    "Instead, they generate a series of values that can be iterated over using a for loop or other iteration tools. \n",
    "Generator functions allow us to write code that is more memory-efficient, since they generate values on-the-fly rather than creating and storing an entire list in memory.\n",
    "\n",
    "The yield keyword is used in generator functions to pause the function execution and return a value to the caller. \n",
    "The state of the function is saved, so when the function is called again, execution resumes from where it left off. \n",
    "The yield keyword can be used multiple times in a generator function to generate a sequence of values.\n",
    "\n",
    "Here's an example of a simple generator function that generates the first n numbers of the Fibonacci sequence:'''\n",
    "\n",
    "def fibonacci(n):\n",
    "    a, b = 0, 1\n",
    "    for i in range(n):\n",
    "        yield a\n",
    "        a, b = b, a + b\n"
   ]
  },
  {
   "cell_type": "code",
   "execution_count": 2,
   "id": "0c3b2f99-6651-4411-b0e8-b88c511cde6c",
   "metadata": {},
   "outputs": [
    {
     "name": "stdout",
     "output_type": "stream",
     "text": [
      "2\n",
      "3\n",
      "5\n",
      "7\n",
      "11\n",
      "13\n",
      "17\n",
      "19\n",
      "23\n",
      "29\n",
      "31\n",
      "37\n",
      "41\n",
      "43\n",
      "47\n",
      "53\n",
      "59\n",
      "61\n",
      "67\n",
      "71\n"
     ]
    }
   ],
   "source": [
    "#Q.5 Ans-\n",
    "\n",
    "def primes():\n",
    "    \"\"\"\n",
    "    Generator function that yields prime numbers less than 1000\n",
    "    \"\"\"\n",
    "    for num in range(2, 1000):\n",
    "        if all(num % i != 0 for i in range(2, int(num ** 0.5) + 1)):\n",
    "            yield num\n",
    "            \n",
    "prime_gen = primes()\n",
    "for i in range(20):\n",
    "    print(next(prime_gen))"
   ]
  },
  {
   "cell_type": "code",
   "execution_count": null,
   "id": "35db90da-fd30-4e36-858a-b09f7b69c992",
   "metadata": {},
   "outputs": [],
   "source": []
  },
  {
   "cell_type": "code",
   "execution_count": 49,
   "id": "401fa540-3d9c-48cd-8b43-3ee31a3683cb",
   "metadata": {},
   "outputs": [
    {
     "name": "stdout",
     "output_type": "stream",
     "text": [
      "0\n",
      "1\n",
      "1\n",
      "2\n",
      "3\n",
      "5\n",
      "8\n",
      "13\n",
      "21\n",
      "34\n"
     ]
    }
   ],
   "source": [
    "#Q.6 Ans- \n",
    "number = 10\n",
    "a , b  = 0 , 1 \n",
    "counter = 0 \n",
    "while counter < number : \n",
    "    print(a)\n",
    "    c = a+ b\n",
    "    a = b \n",
    "    b = c \n",
    "    counter= counter+ 1"
   ]
  },
  {
   "cell_type": "code",
   "execution_count": 47,
   "id": "02544f7b-5778-4d55-b32d-fac91efdf53d",
   "metadata": {},
   "outputs": [
    {
     "name": "stdout",
     "output_type": "stream",
     "text": [
      "['p', 'w', 's', 'k', 'i', 'l', 'l', 's']\n"
     ]
    }
   ],
   "source": [
    "#Q.7 Ans-\n",
    "string = 'pwskills'\n",
    "selected_chars = [char for char in string if char in 'pwskill']\n",
    "print(selected_chars)"
   ]
  },
  {
   "cell_type": "code",
   "execution_count": 2,
   "id": "24e6b3eb-b698-484b-83dd-328b822ac0d3",
   "metadata": {},
   "outputs": [
    {
     "name": "stdin",
     "output_type": "stream",
     "text": [
      "Enter a number:  65554\n"
     ]
    },
    {
     "name": "stdout",
     "output_type": "stream",
     "text": [
      "65554 is not a palindrome number\n"
     ]
    }
   ],
   "source": [
    "#Q.8 Ans- \n",
    "num = int(input(\"Enter a number: \"))\n",
    "temp = num\n",
    "reverse_num = 0\n",
    "\n",
    "while temp > 0:\n",
    "    digit = temp % 10\n",
    "    reverse_num = reverse_num * 10 + digit\n",
    "    temp //= 10\n",
    "\n",
    "if num == reverse_num:\n",
    "    print(f\"{num} is a palindrome number\")\n",
    "else:\n",
    "    print(f\"{num} is not a palindrome number\")\n"
   ]
  },
  {
   "cell_type": "code",
   "execution_count": 46,
   "id": "f7454e04-f153-46c6-975d-cd17daae43cc",
   "metadata": {},
   "outputs": [
    {
     "name": "stdout",
     "output_type": "stream",
     "text": [
      "[1, 3, 5, 7, 9, 11, 13, 15, 17, 19, 21, 23, 25, 27, 29, 31, 33, 35, 37, 39, 41, 43, 45, 47, 49, 51, 53, 55, 57, 59, 61, 63, 65, 67, 69, 71, 73, 75, 77, 79, 81, 83, 85, 87, 89, 91, 93, 95, 97, 99]\n"
     ]
    }
   ],
   "source": [
    "#Q.9 Ans-\n",
    "odd_numbers = [num for num in range(1, 101) if num % 2 != 0]\n",
    "print(odd_numbers)"
   ]
  },
  {
   "cell_type": "code",
   "execution_count": null,
   "id": "4b54acd5-a79d-4a99-8448-c7d75aef8a56",
   "metadata": {},
   "outputs": [],
   "source": []
  }
 ],
 "metadata": {
  "kernelspec": {
   "display_name": "Python 3 (ipykernel)",
   "language": "python",
   "name": "python3"
  },
  "language_info": {
   "codemirror_mode": {
    "name": "ipython",
    "version": 3
   },
   "file_extension": ".py",
   "mimetype": "text/x-python",
   "name": "python",
   "nbconvert_exporter": "python",
   "pygments_lexer": "ipython3",
   "version": "3.10.8"
  }
 },
 "nbformat": 4,
 "nbformat_minor": 5
}
